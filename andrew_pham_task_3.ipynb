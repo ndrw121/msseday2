import math

def calculate_distance(coord1, coord2):
    if len(coord1) != 3 or len(coord2) != 3:
        raise ValueError("Coordinates must be lists of length 3 [x, y, z].")
    
    x1, y1, z1 = coord1
    x2, y2, z2 = coord2

    distance = math.sqrt((x2 - x1)**2 + (y2 - y1)**2 + (z2 - z1)**2)
    return distance

# Testing example
coord1 = [1, 2, 3]
coord2 = [4, 5, 6]

distance = calculate_distance(coord1, coord2)
print(distance)
